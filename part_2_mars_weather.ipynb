{
 "cells": [
  {
   "attachments": {},
   "cell_type": "markdown",
   "metadata": {},
   "source": [
    "# Module 11 Challenge\n",
    "## Deliverable 2: Scrape and Analyse Mars Weather Data"
   ]
  },
  {
   "cell_type": "code",
   "metadata": {
    "ExecuteTime": {
     "end_time": "2024-05-11T06:08:36.454108Z",
     "start_time": "2024-05-11T06:08:36.444548Z"
    }
   },
   "source": [
    "# Import relevant libraries\n",
    "from splinter import Browser\n",
    "from bs4 import BeautifulSoup\n",
    "import matplotlib.pyplot as plt\n",
    "import pandas as pd"
   ],
   "outputs": [],
   "execution_count": 3
  },
  {
   "cell_type": "code",
   "metadata": {
    "ExecuteTime": {
     "end_time": "2024-05-11T06:08:42.750193Z",
     "start_time": "2024-05-11T06:08:37.457708Z"
    }
   },
   "source": [
    "browser = Browser('chrome')"
   ],
   "outputs": [],
   "execution_count": 4
  },
  {
   "attachments": {},
   "cell_type": "markdown",
   "metadata": {},
   "source": [
    "### Step 1: Visit the Website\n",
    "\n",
    "Use automated browsing to visit the [Mars Temperature Data Site](https://static.bc-edx.com/data/web/mars_facts/temperature.html). Inspect the page to identify which elements to scrape.\n",
    "\n",
    "   > **Hint** To identify which elements to scrape, you might want to inspect the page by using Chrome DevTools to discover whether the table contains usable classes.\n"
   ]
  },
  {
   "cell_type": "code",
   "metadata": {
    "ExecuteTime": {
     "end_time": "2024-05-11T06:08:57.770569Z",
     "start_time": "2024-05-11T06:08:54.524376Z"
    }
   },
   "source": [
    "# Visit the website\n",
    "# https://static.bc-edx.com/data/web/mars_facts/temperature.html\n",
    "url = \"https://static.bc-edx.com/data/web/mars_facts/temperature.html\"\n",
    "\n",
    "browser.visit(url)\n",
    "\n",
    "html = browser.html"
   ],
   "outputs": [],
   "execution_count": 5
  },
  {
   "attachments": {},
   "cell_type": "markdown",
   "metadata": {},
   "source": [
    "### Step 2: Scrape the Table\n",
    "\n",
    "Create a Beautiful Soup object and use it to scrape the data in the HTML table.\n",
    "\n",
    "Note that this can also be achieved by using the Pandas `read_html` function. However, use Beautiful Soup here to continue sharpening your web scraping skills."
   ]
  },
  {
   "cell_type": "code",
   "metadata": {
    "ExecuteTime": {
     "end_time": "2024-05-11T08:30:44.753409Z",
     "start_time": "2024-05-11T08:30:44.043839Z"
    }
   },
   "source": [
    "# Create a Beautiful Soup Object\n",
    "soup = BeautifulSoup(html, 'html.parser')"
   ],
   "outputs": [],
   "execution_count": 110
  },
  {
   "cell_type": "code",
   "metadata": {
    "ExecuteTime": {
     "end_time": "2024-05-11T08:30:46.087815Z",
     "start_time": "2024-05-11T08:30:46.018607Z"
    }
   },
   "source": [
    "# Extract all rows of data\n",
    "# Find the table\n",
    "table = soup.find('table', class_='table')\n",
    "\n",
    "data_rows = table.find_all('tr',class_='data-row')\n"
   ],
   "outputs": [],
   "execution_count": 111
  },
  {
   "metadata": {
    "ExecuteTime": {
     "end_time": "2024-05-11T08:30:47.358091Z",
     "start_time": "2024-05-11T08:30:47.354637Z"
    }
   },
   "cell_type": "code",
   "source": "#data_rows",
   "outputs": [],
   "execution_count": 112
  },
  {
   "attachments": {},
   "cell_type": "markdown",
   "metadata": {},
   "source": [
    "### Step 3: Store the Data\n",
    "\n",
    "Assemble the scraped data into a Pandas DataFrame. The columns should have the same headings as the table on the website. Here’s an explanation of the column headings:\n",
    "\n",
    "* `id`: the identification number of a single transmission from the Curiosity rover\n",
    "* `terrestrial_date`: the date on Earth\n",
    "* `sol`: the number of elapsed sols (Martian days) since Curiosity landed on Mars\n",
    "* `ls`: the solar longitude\n",
    "* `month`: the Martian month\n",
    "* `min_temp`: the minimum temperature, in Celsius, of a single Martian day (sol)\n",
    "* `pressure`: The atmospheric pressure at Curiosity's location"
   ]
  },
  {
   "cell_type": "code",
   "metadata": {
    "ExecuteTime": {
     "end_time": "2024-05-11T08:30:49.033397Z",
     "start_time": "2024-05-11T08:30:48.951060Z"
    }
   },
   "source": [
    "# Create an empty list\n",
    "mars_temperature = []\n",
    "\n",
    "# Loop through the scraped data to create a list of rows\n",
    "for row in data_rows:\n",
    "    columns = row.find_all('td')\n",
    "    id = columns[0].text.strip() # the identification number of a single transmission from the Curiosity rover\n",
    "    terrestrial_date = columns[1].text.strip() # the date on Earth\n",
    "    sol = columns[2].text.strip() # the number of elapsed sols (Martian days) since Curiosity landed on Mars\n",
    "    ls = columns[3].text.strip() # the solar longitude\n",
    "    month = columns[4].text.strip() # the Martian month\n",
    "    min_temp = columns[5].text.strip() # the minimum temperature, in Celsius, of a single Martian day (sol)\n",
    "    pressure = columns[6].text.strip() # The atmospheric pressure at Curiosity's location\n",
    "    \n",
    "     # Store each data row parameters in a dictionary\n",
    "    mars_temperature.append({\n",
    "        'id': id,\n",
    "        'terrestrial_date': terrestrial_date,\n",
    "        'sol': sol,\n",
    "        'ls': ls,\n",
    "        'month': month,\n",
    "        'min_temp': min_temp,\n",
    "        'pressure': pressure,\n",
    "    })\n",
    "    \n",
    "# mars_temperature"
   ],
   "outputs": [],
   "execution_count": 113
  },
  {
   "cell_type": "code",
   "metadata": {
    "ExecuteTime": {
     "end_time": "2024-05-11T08:30:50.144731Z",
     "start_time": "2024-05-11T08:30:50.136104Z"
    }
   },
   "source": [
    "# Create a Pandas DataFrame by using the list of rows and a list of the column names\n",
    "columns = ['id', 'terrestrial_date', 'sol', 'ls', 'month', 'min_temp', 'pressure']\n",
    "mars_temperature_df = pd.DataFrame(mars_temperature, columns=columns)"
   ],
   "outputs": [],
   "execution_count": 114
  },
  {
   "cell_type": "code",
   "metadata": {
    "ExecuteTime": {
     "end_time": "2024-05-11T08:30:51.557324Z",
     "start_time": "2024-05-11T08:30:51.552268Z"
    }
   },
   "source": [
    "# Confirm DataFrame was created successfully\n",
    "from tabulate import tabulate\n",
    "\n",
    "print(tabulate(mars_temperature_df.head(), headers='keys', tablefmt='psql'))\n"
   ],
   "outputs": [
    {
     "name": "stdout",
     "output_type": "stream",
     "text": [
      "+----+------+--------------------+-------+------+---------+------------+------------+\n",
      "|    |   id | terrestrial_date   |   sol |   ls |   month |   min_temp |   pressure |\n",
      "|----+------+--------------------+-------+------+---------+------------+------------|\n",
      "|  0 |    2 | 2012-08-16         |    10 |  155 |       6 |        -75 |        739 |\n",
      "|  1 |   13 | 2012-08-17         |    11 |  156 |       6 |        -76 |        740 |\n",
      "|  2 |   24 | 2012-08-18         |    12 |  156 |       6 |        -76 |        741 |\n",
      "|  3 |   35 | 2012-08-19         |    13 |  157 |       6 |        -74 |        732 |\n",
      "|  4 |   46 | 2012-08-20         |    14 |  157 |       6 |        -74 |        740 |\n",
      "+----+------+--------------------+-------+------+---------+------------+------------+\n"
     ]
    }
   ],
   "execution_count": 115
  },
  {
   "attachments": {},
   "cell_type": "markdown",
   "metadata": {},
   "source": [
    "### Step 4: Prepare Data for Analysis\n",
    "\n",
    "Examine the data types that are currently associated with each column. If necessary, cast (or convert) the data to the appropriate `datetime`, `int`, or `float` data types.\n",
    "\n",
    "  > **Hint** You can use the Pandas `astype` and `to_datetime` methods to accomplish this task.\n"
   ]
  },
  {
   "cell_type": "code",
   "metadata": {
    "ExecuteTime": {
     "end_time": "2024-05-11T08:30:51.565318Z",
     "start_time": "2024-05-11T08:30:51.559545Z"
    }
   },
   "source": [
    "# Examine data type of each column\n",
    "\n",
    "# Print the data types of each column in the DataFrame\n",
    "print(mars_temperature_df.dtypes)"
   ],
   "outputs": [
    {
     "name": "stdout",
     "output_type": "stream",
     "text": [
      "id                  object\n",
      "terrestrial_date    object\n",
      "sol                 object\n",
      "ls                  object\n",
      "month               object\n",
      "min_temp            object\n",
      "pressure            object\n",
      "dtype: object\n"
     ]
    }
   ],
   "execution_count": 116
  },
  {
   "cell_type": "code",
   "metadata": {
    "ExecuteTime": {
     "end_time": "2024-05-11T08:30:53.301037Z",
     "start_time": "2024-05-11T08:30:53.291041Z"
    }
   },
   "source": [
    "# Change data types for data analysis\n",
    "mars_temperature_df['sol'] = mars_temperature_df['sol'].astype(int)\n",
    "mars_temperature_df['ls'] = mars_temperature_df['ls'].astype(int)\n",
    "mars_temperature_df['month'] = mars_temperature_df['month'].astype(int)\n",
    "mars_temperature_df['min_temp'] = mars_temperature_df['min_temp'].astype(float)\n",
    "mars_temperature_df['pressure'] = mars_temperature_df['pressure'].astype(float)\n",
    "mars_temperature_df['terrestrial_date'] = pd.to_datetime(mars_temperature_df['terrestrial_date'])"
   ],
   "outputs": [],
   "execution_count": 117
  },
  {
   "cell_type": "code",
   "metadata": {
    "ExecuteTime": {
     "end_time": "2024-05-11T08:30:53.308178Z",
     "start_time": "2024-05-11T08:30:53.303126Z"
    }
   },
   "source": [
    "# Confirm type changes were successful by examining data types again\n",
    "print(mars_temperature_df.dtypes)"
   ],
   "outputs": [
    {
     "name": "stdout",
     "output_type": "stream",
     "text": [
      "id                          object\n",
      "terrestrial_date    datetime64[ns]\n",
      "sol                          int64\n",
      "ls                           int64\n",
      "month                        int64\n",
      "min_temp                   float64\n",
      "pressure                   float64\n",
      "dtype: object\n"
     ]
    }
   ],
   "execution_count": 118
  },
  {
   "attachments": {},
   "cell_type": "markdown",
   "metadata": {},
   "source": [
    "### Step 5: Analyse the Data\n",
    "\n",
    "Analyse your dataset by using Pandas functions to answer the following questions:\n",
    "\n",
    "1. How many months exist on Mars?\n",
    "2. How many Martian (and not Earth) days worth of data exist in the scraped dataset?\n",
    "3. What are the coldest and the warmest months on Mars (at the location of Curiosity)? To answer this question:\n",
    "    * Find the average the minimum daily temperature for all of the months.\n",
    "    * Plot the results as a bar chart.\n",
    "4. Which months have the lowest and the highest atmospheric pressure on Mars? To answer this question:\n",
    "    * Find the average the daily atmospheric pressure of all the months.\n",
    "    * Plot the results as a bar chart.\n",
    "5. About how many terrestrial (Earth) days exist in a Martian year? To answer this question:\n",
    "    * Consider how many days elapse on Earth in the time that Mars circles the Sun once.\n",
    "    * Visually estimate the result by plotting the daily minimum temperature.\n"
   ]
  },
  {
   "cell_type": "code",
   "metadata": {
    "ExecuteTime": {
     "end_time": "2024-05-11T08:30:54.896456Z",
     "start_time": "2024-05-11T08:30:54.890303Z"
    }
   },
   "source": [
    "# 1. How many months are there on Mars?\n",
    "\n",
    "month_counts = mars_temperature_df['month'].value_counts().sort_index()\n",
    "\n",
    "# Convert the Series to DataFrame for a better presentation\n",
    "# month_counts_df = month_counts.reset_index()\n",
    "# month_counts_df.columns = ['Month', 'Count']\n",
    "\n",
    "# Print the DataFrame\n",
    "print (month_counts)\n",
    "#print(month_counts_df.to_string(index=False, header=False))"
   ],
   "outputs": [
    {
     "name": "stdout",
     "output_type": "stream",
     "text": [
      "month\n",
      "1     174\n",
      "2     178\n",
      "3     192\n",
      "4     194\n",
      "5     149\n",
      "6     147\n",
      "7     142\n",
      "8     141\n",
      "9     134\n",
      "10    112\n",
      "11    138\n",
      "12    166\n",
      "Name: count, dtype: int64\n"
     ]
    }
   ],
   "execution_count": 119
  },
  {
   "cell_type": "code",
   "metadata": {
    "ExecuteTime": {
     "end_time": "2024-05-11T08:30:54.903534Z",
     "start_time": "2024-05-11T08:30:54.898996Z"
    }
   },
   "source": [
    "# 2. How many Martian days' worth of data are there?\n",
    "unique_days = mars_temperature_df['sol'].nunique()\n",
    "print(unique_days)"
   ],
   "outputs": [
    {
     "name": "stdout",
     "output_type": "stream",
     "text": [
      "1867\n"
     ]
    }
   ],
   "execution_count": 120
  },
  {
   "cell_type": "code",
   "metadata": {
    "ExecuteTime": {
     "end_time": "2024-05-11T08:30:56.374503Z",
     "start_time": "2024-05-11T08:30:56.366953Z"
    }
   },
   "source": [
    "# 3. What is the average low temperature by month?\n",
    "\n",
    "# Group the data by 'month' and calculate the average 'min_temp' for each month\n",
    "average_temps_by_month = mars_temperature_df.groupby('month')['min_temp'].mean()\n",
    "\n",
    "# Convert the Series to a DataFrame for better readability and reset the index\n",
    "average_temps_df = average_temps_by_month.reset_index()\n",
    "average_temps_df.columns = ['Month', '']\n",
    "\n",
    "# Print the DataFrame\n",
    "print(average_temps_df.to_string(index=False))"
   ],
   "outputs": [
    {
     "name": "stdout",
     "output_type": "stream",
     "text": [
      " Month           \n",
      "     1 -77.160920\n",
      "     2 -79.932584\n",
      "     3 -83.307292\n",
      "     4 -82.747423\n",
      "     5 -79.308725\n",
      "     6 -75.299320\n",
      "     7 -72.281690\n",
      "     8 -68.382979\n",
      "     9 -69.171642\n",
      "    10 -71.982143\n",
      "    11 -71.985507\n",
      "    12 -74.451807\n"
     ]
    }
   ],
   "execution_count": 121
  },
  {
   "cell_type": "code",
   "metadata": {
    "ExecuteTime": {
     "end_time": "2024-05-11T08:30:58.394173Z",
     "start_time": "2024-05-11T08:30:57.870269Z"
    }
   },
   "source": [
    "# Plot the average temperature by month\n",
    "\n",
    "# Plotting\n",
    "plt.figure(figsize=(7, 5))\n",
    "plt.bar(average_temps_by_month.index, average_temps_by_month.values, color='dodgerblue')\n",
    "plt.xlabel('Month')\n",
    "plt.ylabel('Temperature In Celsius(°C)')\n",
    "plt.title('')\n",
    "plt.xticks(average_temps_by_month.index)  # Ensure all month labels are shown\n",
    "plt.grid(False)\n",
    "plt.show()"
   ],
   "outputs": [
    {
     "data": {
      "text/plain": [
       "<Figure size 700x500 with 1 Axes>"
      ],
      "image/png": "[encoded data removed]"
     },
     "metadata": {},
     "output_type": "display_data"
    }
   ],
   "execution_count": 122
  },
  {
   "cell_type": "code",
   "metadata": {
    "ExecuteTime": {
     "end_time": "2024-05-11T08:31:00.467226Z",
     "start_time": "2024-05-11T08:31:00.220661Z"
    }
   },
   "source": [
    "# Identify the coldest and hottest months in Curiosity's location\n",
    "\n",
    "# Find the coldest and hottest months\n",
    "coldest_month = average_temps_by_month.idxmin()\n",
    "hottest_month = average_temps_by_month.idxmax()\n",
    "\n",
    "# Plotting\n",
    "plt.figure(figsize=(10, 6))\n",
    "# Plot all months' temperatures\n",
    "plt.bar(average_temps_by_month.index, average_temps_by_month.values, color='blue')\n",
    "# Highlight the coldest and hottest months\n",
    "plt.bar(coldest_month, average_temps_by_month.loc[coldest_month], color='cyan', label='Coldest Month')\n",
    "plt.bar(hottest_month, average_temps_by_month.loc[hottest_month], color='red', label='Hottest Month')\n",
    "\n",
    "# Adding labels and title\n",
    "plt.xlabel('Month')\n",
    "plt.ylabel('Temperature In Celsius(°C)')\n",
    "plt.title('')\n",
    "plt.xticks(average_temps_by_month.index)  # Ensure all month labels are shown\n",
    "plt.legend()\n",
    "plt.grid(False)\n",
    "plt.show()\n"
   ],
   "outputs": [
    {
     "data": {
      "text/plain": [
       "<Figure size 1000x600 with 1 Axes>"
      ],
      "image/png": "[encoded data removed]"
     },
     "metadata": {},
     "output_type": "display_data"
    }
   ],
   "execution_count": 123
  },
  {
   "cell_type": "code",
   "metadata": {
    "ExecuteTime": {
     "end_time": "2024-05-11T08:31:01.972587Z",
     "start_time": "2024-05-11T08:31:01.964688Z"
    }
   },
   "source": [
    "# 4. Average pressure by Martian month\n",
    "\n",
    "# Group the data by 'month' and calculate the average 'pressure' for each month\n",
    "average_pressure_by_month = mars_temperature_df.groupby('month')['pressure'].mean()\n",
    "\n",
    "# Convert the Series to a DataFrame for better readability and reset the index\n",
    "average_pressure_df = average_pressure_by_month.reset_index()\n",
    "average_pressure_df.columns = ['Month', 'Average Pressure']\n",
    "\n",
    "# Print the DataFrame\n",
    "print(average_pressure_df)"
   ],
   "outputs": [
    {
     "name": "stdout",
     "output_type": "stream",
     "text": [
      "    Month  Average Pressure\n",
      "0       1        862.488506\n",
      "1       2        889.455056\n",
      "2       3        877.322917\n",
      "3       4        806.329897\n",
      "4       5        748.557047\n",
      "5       6        745.054422\n",
      "6       7        795.105634\n",
      "7       8        873.829787\n",
      "8       9        913.305970\n",
      "9      10        887.312500\n",
      "10     11        857.014493\n",
      "11     12        842.156627\n"
     ]
    }
   ],
   "execution_count": 124
  },
  {
   "cell_type": "code",
   "metadata": {
    "ExecuteTime": {
     "end_time": "2024-05-11T08:31:03.654532Z",
     "start_time": "2024-05-11T08:31:03.312952Z"
    }
   },
   "source": [
    "# Plot the average pressure by month\n",
    "\n",
    "plt.figure(figsize=(10, 5))\n",
    "plt.bar(average_pressure_df['Month'], average_pressure_df['Average Pressure'], color='dodgerblue')\n",
    "plt.xlabel('Month')\n",
    "plt.ylabel('Average Pressure')\n",
    "plt.title('')\n",
    "plt.xticks(average_pressure_df['Month'])  # Ensure all month labels are shown\n",
    "plt.grid(False)\n",
    "plt.show()"
   ],
   "outputs": [
    {
     "data": {
      "text/plain": [
       "<Figure size 1000x500 with 1 Axes>"
      ],
      "image/png": "[encoded data removed]"
     },
     "metadata": {},
     "output_type": "display_data"
    }
   ],
   "execution_count": 125
  },
  {
   "cell_type": "code",
   "metadata": {
    "ExecuteTime": {
     "end_time": "2024-05-11T08:32:12.979377Z",
     "start_time": "2024-05-11T08:32:12.766029Z"
    }
   },
   "source": [
    "# 5. How many terrestrial (earth) days are there in a Martian year?\n",
    "mars_temperature_df.sort_values('sol', inplace=True)\n",
    "# Plotting\n",
    "plt.figure(figsize=(8, 7))\n",
    "plt.plot(mars_temperature_df['sol'], mars_temperature_df['min_temp'], color='dodgerblue', linewidth=1.5)  # Line plot\n",
    "\n",
    "# Adding labels and title\n",
    "plt.title('')\n",
    "plt.xlabel('Number of Terrestrial Days')\n",
    "plt.ylabel('Minimum Temperature')\n",
    "plt.grid(False)  # Add a grid for better readability of the plot\n",
    "plt.show()\n"
   ],
   "outputs": [
    {
     "data": {
      "text/plain": [
       "<Figure size 800x700 with 1 Axes>"
      ],
      "image/png": "[encoded data removed]"
     },
     "metadata": {},
     "output_type": "display_data"
    }
   ],
   "execution_count": 127
  },
  {
   "attachments": {},
   "cell_type": "markdown",
   "metadata": {},
   "source": [
    "On average, the third month has the coldest minimum temperature on Mars, and the eighth month is the warmest. But it is always very cold there in human terms!\n",
    "\n"
   ]
  },
  {
   "attachments": {},
   "cell_type": "markdown",
   "metadata": {},
   "source": [
    "Atmospheric pressure is, on average, lowest in the sixth month and highest in the ninth."
   ]
  },
  {
   "attachments": {},
   "cell_type": "markdown",
   "metadata": {},
   "source": [
    "The distance from peak to peak is roughly 1425-750, or 675 days. A year on Mars appears to be about 675 days from the plot. Internet search confirms that a Mars year is equivalent to 687 earth days."
   ]
  },
  {
   "attachments": {},
   "cell_type": "markdown",
   "metadata": {},
   "source": [
    "### Step 6: Save the Data\n",
    "\n",
    "Export the DataFrame to a CSV file."
   ]
  },
  {
   "cell_type": "code",
   "metadata": {
    "ExecuteTime": {
     "end_time": "2024-05-11T08:32:19.480919Z",
     "start_time": "2024-05-11T08:32:19.468235Z"
    }
   },
   "source": [
    "# Write the data to a CSV\n",
    "# Save DataFrame to a CSV file\n",
    "mars_temperature_df.to_csv('mars_data.csv', index=False)  # Set index=False if you do not want the index column in your CSV"
   ],
   "outputs": [],
   "execution_count": 128
  },
  {
   "cell_type": "code",
   "metadata": {
    "ExecuteTime": {
     "end_time": "2024-05-11T08:32:21.179594Z",
     "start_time": "2024-05-11T08:32:21.003542Z"
    }
   },
   "source": [
    "browser.quit()"
   ],
   "outputs": [],
   "execution_count": 129
  },
  {
   "cell_type": "code",
   "execution_count": null,
   "metadata": {},
   "outputs": [],
   "source": []
  }
 ],
 "metadata": {
  "kernelspec": {
   "display_name": "Python 3 (ipykernel)",
   "language": "python",
   "name": "python3"
  },
  "language_info": {
   "codemirror_mode": {
    "name": "ipython",
    "version": 3
   },
   "file_extension": ".py",
   "mimetype": "text/x-python",
   "name": "python",
   "nbconvert_exporter": "python",
   "pygments_lexer": "ipython3",
   "version": "3.10.4"
  },
  "vscode": {
   "interpreter": {
    "hash": "31f2aee4e71d21fbe5cf8b01ff0e069b9275f58929596ceb00d14d90e3e16cd6"
   }
  }
 },
 "nbformat": 4,
 "nbformat_minor": 4
}
